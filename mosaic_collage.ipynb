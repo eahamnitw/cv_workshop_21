{
 "cells": [
  {
   "cell_type": "code",
   "execution_count": 12,
   "metadata": {},
   "outputs": [],
   "source": [
    "#Importing the required libraries \n",
    "import os, random, argparse \n",
    "from PIL import Image \n",
    "import imghdr \n",
    "import numpy as np "
   ]
  },
  {
   "cell_type": "markdown",
   "metadata": {},
   "source": [
    "**FUNCTION TO GET AVERAGE RGBOLD:**\n",
    "\n",
    "1.Find the number of pixels in the image\n",
    "2.Get colors as [(cnt1, (r1, g1, b1)), ...]\n",
    "3.Find the sum ( [(c1*r1, c1*g1, c1*g2),...])\n",
    "4.Find average using (sum(ci*bi)/np, sum(ci*gi)/np, sum(ci*ri)/np) which gives us [(c1*b1, c2*b2, ..), (c1*g1, c1*g2,...)...]\n",
    "5.Return the average value\n",
    "\n"
   ]
  },
  {
   "cell_type": "code",
   "execution_count": 13,
   "metadata": {},
   "outputs": [],
   "source": [
    "def getAverageRGBOld(image): \n",
    "  \"\"\" \n",
    "  Given PIL Image, return average value of color as (r, g, b) \n",
    "  \"\"\"\n",
    "  # no. of pixels in image \n",
    "  npixels = image.size[0]*image.size[1] \n",
    "  # get colors as [(cnt1, (r1, g1, b1)), ...] \n",
    "  cols = image.getcolors(npixels) \n",
    "  # get [(c1*b1, c1*g1, c1*g2),...] \n",
    "  sumRGB = [(x[0]*x[1][0], x[0]*x[1][1], x[0]*x[1][2]) for x in cols] \n",
    "  # calculate (sum(ci*ri)/np, sum(ci*gi)/np, sum(ci*bi)/np) \n",
    "  # the zip gives us [(c1*r1, c2*r2, ..), (c1*g1, c1*g2,...)...] \n",
    "  avg = tuple([int(sum(x)/npixels) for x in zip(*sumBGR)]) \n",
    "  return avg "
   ]
  },
  {
   "cell_type": "markdown",
   "metadata": {},
   "source": [
    "**FUNCTION TO GET AVERAGE RGB**\n",
    "\n",
    "1.Get the image as numpy array\n",
    "2.Get the shape\n",
    "3.Find out the average"
   ]
  },
  {
   "cell_type": "code",
   "execution_count": 14,
   "metadata": {},
   "outputs": [],
   "source": [
    "def getAverageRGB(image): \n",
    "  \"\"\" \n",
    "  Given PIL Image, return average value of color as (r, g, b) \n",
    "  \"\"\"\n",
    "  # get image as numpy array \n",
    "  im = np.array(image) \n",
    "  # get shape \n",
    "  w,h,d = im.shape \n",
    "  # get average \n",
    "  return tuple(np.average(im.reshape(w*h, d), axis=0)) \n"
   ]
  },
  {
   "cell_type": "markdown",
   "metadata": {},
   "source": [
    "**FUNCTION TO SPLIT IMAGE**\n",
    "\n",
    "1.Find width and height\n",
    "2.Make an image list\n",
    "3.Generate the list of dimensions\n",
    "4.Append the cropped image\n",
    "5.Return the image"
   ]
  },
  {
   "cell_type": "code",
   "execution_count": 15,
   "metadata": {},
   "outputs": [],
   "source": [
    "def splitImage(image, size): \n",
    "  \"\"\" \n",
    "  Given Image and dims (rows, cols) returns an m*n list of Images \n",
    "  \"\"\"\n",
    "  W, H = image.size[0], image.size[1] \n",
    "  m, n = size \n",
    "  w, h = int(W/n), int(H/m) \n",
    "  # image list \n",
    "  imgs = [] \n",
    "  # generate list of dimensions \n",
    "  for j in range(m): \n",
    "    for i in range(n): \n",
    "      # append cropped image \n",
    "      imgs.append(image.crop((i*w, j*h, (i+1)*w, (j+1)*h))) \n",
    "  return imgs \n",
    "\n"
   ]
  },
  {
   "cell_type": "markdown",
   "metadata": {},
   "source": [
    "**FUNCTION TO GET IMAGES**\n",
    "\n",
    "1.Explicit the load so that we don't run into resource crunch\n",
    "2.Force loading image data from file\n",
    "3.Whenever we get an exception we are going to skip the file and print Invalid image\n",
    "4.If everything goes good it will return the images"
   ]
  },
  {
   "cell_type": "code",
   "execution_count": 16,
   "metadata": {},
   "outputs": [],
   "source": [
    "def getImages(imageDir): \n",
    "  \"\"\" \n",
    "  given a directory of images, return a list of Images \n",
    "  \"\"\"\n",
    "  files = os.listdir(imageDir) \n",
    "  images = [] \n",
    "  for file in files: \n",
    "    filePath = os.path.abspath(os.path.join(imageDir, file)) \n",
    "    try: \n",
    "    # explicit load so we don't run into resource crunch \n",
    "      fp = open(filePath, \"rb\") \n",
    "      im = Image.open(fp) \n",
    "      images.append(im) \n",
    "      # force loading image data from file \n",
    "      im.load() \n",
    "      # close the file \n",
    "      fp.close() \n",
    "    except: \n",
    "      # skip \n",
    "      print(\"Invalid image: %s\" % (filePath,)) \n",
    "  return images \n",
    "\n"
   ]
  },
  {
   "cell_type": "markdown",
   "metadata": {},
   "source": [
    "**GET IMAGE FILE NAMES**\n",
    "\n",
    "1.Explicit the load so that we don't run into resource crunch\n",
    "2.Force loading image data from file\n",
    "3.Whenever we get an exception we are going to skip the file and print Invalid image\n",
    "4.If everything goes good it will return the images"
   ]
  },
  {
   "cell_type": "code",
   "execution_count": 17,
   "metadata": {},
   "outputs": [],
   "source": [
    "def getImageFilenames(imageDir): \n",
    "  \"\"\" \n",
    "  given a directory of images, return a list of Image file names \n",
    "  \"\"\"\n",
    "  files = os.listdir(imageDir) \n",
    "  filenames = [] \n",
    "  for file in files: \n",
    "    filePath = os.path.abspath(os.path.join(imageDir, file)) \n",
    "    try: \n",
    "      imgType = imghdr.what(filePath) \n",
    "      if imgType: \n",
    "        filenames.append(filePath) \n",
    "    except: \n",
    "      # skip \n",
    "      print(\"Invalid image: %s\" % (filePath,)) \n",
    "  return filenames \n"
   ]
  },
  {
   "cell_type": "markdown",
   "metadata": {},
   "source": [
    "**FUNCTION TO GET BEST MATCH INDEX**\n",
    "\n",
    "1.Find the closest RGB value to input(based on x/y/z distance)\n",
    "2.Find the index\n",
    "3.Return the best match index\n",
    "\n"
   ]
  },
  {
   "cell_type": "code",
   "execution_count": 18,
   "metadata": {},
   "outputs": [],
   "source": [
    "def getBestMatchIndex(input_avg, avgs): \n",
    "  \"\"\" \n",
    "  return index of best Image match based on RGB value distance \n",
    "  \"\"\"\n",
    "\n",
    "  # input image average \n",
    "  avg = input_avg \n",
    "    \n",
    "  # get the closest RGB value to input, based on x/y/z distance \n",
    "  index = 0\n",
    "  min_index = 0\n",
    "  min_dist = float(\"inf\") \n",
    "  for val in avgs: \n",
    "    dist = ((val[0] - avg[0])*(val[0] - avg[0]) +\n",
    "        (val[1] - avg[1])*(val[1] - avg[1]) +\n",
    "        (val[2] - avg[2])*(val[2] - avg[2])) \n",
    "    if dist < min_dist: \n",
    "      min_dist = dist \n",
    "      min_index = index \n",
    "    index += 1\n",
    "\n",
    "  return min_index "
   ]
  },
  {
   "cell_type": "markdown",
   "metadata": {},
   "source": [
    "**FUNCTION TO CREATE IMAGE GRID**\n",
    "\n",
    "1.Going to do the sanity check\n",
    "2.Get maximum height and width of images by assuming they are not equal\n",
    "3.Create output image\n",
    "4.Paste the images"
   ]
  },
  {
   "cell_type": "code",
   "execution_count": 23,
   "metadata": {},
   "outputs": [],
   "source": [
    "def createImageGrid(images, dims): \n",
    "  \"\"\" \n",
    "  Given a list of images and a grid size (m, n), create \n",
    "  a grid of images. \n",
    "  \"\"\"\n",
    "  m, n = dims \n",
    "\n",
    "  # sanity check \n",
    "  assert m*n == len(images) \n",
    "\n",
    "  # get max height and width of images \n",
    "  # ie, not assuming they are all equal \n",
    "  width = max([img.size[0] for img in images]) \n",
    "  height = max([img.size[1] for img in images]) \n",
    "\n",
    "  # create output image \n",
    "  grid_img = Image.new('RGB', (n*width, m*height)) \n",
    "    \n",
    "  # paste images \n",
    "  for index in range(len(images)): \n",
    "    row = int(index/n) \n",
    "    col = index - n*row \n",
    "    grid_img.paste(images[index], (col*width, row*height)) \n",
    "    \n",
    "  return grid_img \n",
    "\n",
    "\n"
   ]
  },
  {
   "cell_type": "markdown",
   "metadata": {},
   "source": [
    "**FUNCTION TO CREATE PHOTOMOSAIC**\n",
    "\n",
    "1.Going to split target image using splitimage function\n",
    "2.For each target (splited image) we are going to pick one from input\n",
    "3.Calculate the average of input images\n",
    "4.Calculate the average of traget sub-image\n",
    "5.Find match index\n",
    "6.Draw mosaic to image \n",
    "7.Return mosaic image"
   ]
  },
  {
   "cell_type": "code",
   "execution_count": 24,
   "metadata": {},
   "outputs": [
    {
     "name": "stderr",
     "output_type": "stream",
     "text": [
      "<>:29: SyntaxWarning: \"is\" with a literal. Did you mean \"==\"?\n",
      "<>:29: SyntaxWarning: \"is\" with a literal. Did you mean \"==\"?\n",
      "<ipython-input-24-66a34c51a40b>:29: SyntaxWarning: \"is\" with a literal. Did you mean \"==\"?\n",
      "  if count > 0 and batch_size > 10 and count % batch_size is 0:\n"
     ]
    }
   ],
   "source": [
    "def createPhotomosaic(target_image, input_images, grid_size, reuse_images=True): \n",
    "  \"\"\" \n",
    "  Creates photomosaic given target and input images. \n",
    "  \"\"\"\n",
    "\n",
    "  print('splitting input image...') \n",
    "  # split target image \n",
    "  target_images = splitImage(target_image, grid_size) \n",
    "\n",
    "  print('finding image matches...') \n",
    "  # for each target image, pick one from input \n",
    "  output_images = [] \n",
    "  # for user feedback \n",
    "  count = 0\n",
    "  batch_size = int(len(target_images)/10) \n",
    "\n",
    "  # calculate input image averages \n",
    "  avgs = [] \n",
    "  for img in input_images: \n",
    "    avgs.append(getAverageBGR(img)) \n",
    "\n",
    "  for img in target_images: \n",
    "    # target sub-image average \n",
    "    avg = getAverageBGR(img) \n",
    "    # find match index \n",
    "    match_index = getBestMatchIndex(avg, avgs) \n",
    "    output_images.append(input_images[match_index]) \n",
    "    # user feedback \n",
    "    if count > 0 and batch_size > 10 and count % batch_size is 0: \n",
    "      print('processed %d of %d...' %(count, len(target_images))) \n",
    "    count += 1\n",
    "    # remove selected image from input if flag set \n",
    "    if not reuse_images: \n",
    "      input_images.remove(match) \n",
    "\n",
    "  print('creating mosaic...') \n",
    "  # draw mosaic to image \n",
    "  mosaic_image = createImageGrid(output_images, grid_size) \n",
    "\n",
    "  # return mosaic \n",
    "  return mosaic_image \n",
    "\n"
   ]
  },
  {
   "cell_type": "markdown",
   "metadata": {},
   "source": [
    "**MAIN FUNCTION**\n",
    "\n",
    "1.We are going to take the inputs(i.e. target image and input images)\n",
    "2.Check for validilty of input images\n",
    "3.Define grid size\n",
    "4.Resizing the inputs\n",
    "5.Creating photomosaic\n",
    "6.giving it as output"
   ]
  },
  {
   "cell_type": "code",
   "execution_count": 25,
   "metadata": {},
   "outputs": [],
   "source": [
    "# Gather our code in a main() function \n",
    "def main(): \n",
    "  # Command line args are in sys.argv[1], sys.argv[2] .. \n",
    "  # sys.argv[0] is the script name itself and can be ignored \n",
    "\n",
    "  # parse arguments \n",
    "  #parser = argparse.ArgumentParser(description='Creates a photomosaic from input images') \n",
    "  # add arguments \n",
    "  #parser.add_argument('--target-image', dest='target_image', required=True) \n",
    "  #parser.add_argument('--input-folder', dest='input_folder', required=True) \n",
    "  #parser.add_argument('--grid-size', nargs=2, dest='grid_size', required=True) \n",
    "  #parser.add_argument('--output-file', dest='outfile', required=False) \n",
    "\n",
    "  #args = parser.parse_args() \n",
    "\n",
    "  ###### INPUTS ###### \n",
    "\n",
    "  # target image \n",
    "  target_image = Image.open(\"input_image.jpg\") \n",
    "\n",
    "  # input images folder\n",
    "  print('reading input folder...') \n",
    "  input_images = getImages(\"mosaic_targets\") \n",
    "\n",
    "  # check if any valid input images found \n",
    "  if input_images == []: \n",
    "    print('No input images found in input mosaic targets folder') \n",
    "    exit() \n",
    "\n",
    "  # shuffle list - to get a more varied output? \n",
    "  random.shuffle(input_images) \n",
    "\n",
    "  # size of grid \n",
    "  grid_size = (target_image.size[0]//3,target_image.size[1]//3) \n",
    "\n",
    "  # output \n",
    "  output_filename = 'mosaic.png'\n",
    "  if True: \n",
    "    output_filename = \"result.png\"\n",
    "    \n",
    "  # re-use any image in input \n",
    "  reuse_images = True\n",
    "\n",
    "  # resize the input to fit original image size? \n",
    "  resize_input = True\n",
    "\n",
    "  ##### END INPUTS ##### \n",
    "\n",
    "  print('starting photomosaic creation...') \n",
    "    \n",
    "  # if images can't be reused, ensure m*n <= num_of_images \n",
    "  if not reuse_images: \n",
    "    if grid_size[0]*grid_size[1] > len(input_images): \n",
    "      print('grid size less than number of images') \n",
    "      exit() \n",
    "    \n",
    "  # resizing input \n",
    "  if resize_input: \n",
    "    print('resizing images...') \n",
    "    # for given grid size, compute max dims w,h of tiles \n",
    "    dims = (int(target_image.size[0]/grid_size[1]),int(target_image.size[1]/grid_size[0])) \n",
    "    print(\"max tile dims: %s\" % (dims,)) \n",
    "    # resize \n",
    "    for img in input_images: \n",
    "      img.thumbnail(dims) \n",
    "\n",
    "  # create photomosaic \n",
    "  mosaic_image = createPhotomosaic(target_image, input_images, grid_size, \n",
    "                  reuse_images) \n",
    "\n",
    "  # write out mosaic \n",
    "  mosaic_image.save(output_filename, 'PNG') \n",
    "\n",
    "  print(\"saved output to %s\" % (output_filename,)) \n",
    "  print('done.') "
   ]
  },
  {
   "cell_type": "code",
   "execution_count": 26,
   "metadata": {
    "scrolled": false
   },
   "outputs": [
    {
     "name": "stdout",
     "output_type": "stream",
     "text": [
      "reading input folder...\n",
      "starting photomosaic creation...\n",
      "resizing images...\n",
      "max tile dims: (1, 5)\n",
      "splitting input image...\n",
      "finding image matches...\n",
      "processed 40944 of 409440...\n",
      "processed 81888 of 409440...\n",
      "processed 122832 of 409440...\n",
      "processed 163776 of 409440...\n",
      "processed 204720 of 409440...\n",
      "processed 245664 of 409440...\n",
      "processed 286608 of 409440...\n",
      "processed 327552 of 409440...\n",
      "processed 368496 of 409440...\n",
      "creating mosaic...\n",
      "saved output to result.png\n",
      "done.\n"
     ]
    }
   ],
   "source": [
    "# Standard boilerplate to call the main() function to begin \n",
    "# the program. \n",
    "if __name__ == '__main__': \n",
    "  main() \n"
   ]
  },
  {
   "cell_type": "code",
   "execution_count": null,
   "metadata": {},
   "outputs": [],
   "source": []
  }
 ],
 "metadata": {
  "kernelspec": {
   "display_name": "Python 3",
   "language": "python",
   "name": "python3"
  },
  "language_info": {
   "codemirror_mode": {
    "name": "ipython",
    "version": 3
   },
   "file_extension": ".py",
   "mimetype": "text/x-python",
   "name": "python",
   "nbconvert_exporter": "python",
   "pygments_lexer": "ipython3",
   "version": "3.8.5"
  }
 },
 "nbformat": 4,
 "nbformat_minor": 5
}
